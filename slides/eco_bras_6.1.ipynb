{
 "cells": [
  {
   "cell_type": "markdown",
   "metadata": {
    "slideshow": {
     "slide_type": "slide"
    }
   },
   "source": [
    "## <center>Economia Brasileira II - Pós-Graduação - FEA-USP</center>\n",
    "\n",
    "### <center>Aula 6 -  Endividamento Externo e o II PND (parte 1)</center>\n",
    "\n",
    "### <center>Renato Perim Colistete</center>\n",
    "\n",
    "\n",
    "#### <center>2021</center>  "
   ]
  },
  {
   "cell_type": "markdown",
   "metadata": {
    "heading_collapsed": true,
    "slideshow": {
     "slide_type": "slide"
    }
   },
   "source": [
    "## Objetivos\n",
    "\n",
    "Nesta aula, abordaremos a relação entre crescimento acelerado e endividamento nas décadas de 1960 e 1970 a partir de uma perspectiva internacional e comparada.\n",
    "\n",
    "Inicialmente, revisaremos as características básicas dos empréstimos externos a partir da segunda metade da década de 1960.\n",
    "\n",
    "Em seguida, avaliaremos o endividamento externo ao lado de outras políticas econômicas, considerando América Latina e Coreia. A pergunta central é: como tais países responderam aos choques de 1973 e 1979?"
   ]
  },
  {
   "cell_type": "markdown",
   "metadata": {
    "slideshow": {
     "slide_type": "slide"
    }
   },
   "source": [
    "## Endividamento na América Latina\n",
    "\n",
    "O endividamento externo na América Latina cresceu 8% na década de 1960 e 117% na década de 1970 em termos reais (Fishlow, 1981)."
   ]
  },
  {
   "cell_type": "markdown",
   "metadata": {
    "slideshow": {
     "slide_type": "fragment"
    }
   },
   "source": [
    "Entre 1956 e 1965, os investimentos diretos superaram os\n",
    "financiamentos; entre 1976 e 1980 os investimentos diretos somaram apenas\n",
    "20% do total dos financiamentos externos."
   ]
  },
  {
   "cell_type": "markdown",
   "metadata": {
    "slideshow": {
     "slide_type": "fragment"
    }
   },
   "source": [
    "A primeira onda de endividamento externo na América Latina ocorreu entre final da década de 1960 e 1973."
   ]
  },
  {
   "cell_type": "markdown",
   "metadata": {
    "slideshow": {
     "slide_type": "slide"
    }
   },
   "source": [
    "## Custos\n",
    "\n",
    "Diferenças dos custos dos empréstimos externos privados em relação aos oficiais:"
   ]
  },
  {
   "cell_type": "markdown",
   "metadata": {
    "slideshow": {
     "slide_type": "fragment"
    }
   },
   "source": [
    "- taxas de juros mais elevadas do que as oficiais e reajustadas duas vezes ao ano de acordo com a LIBOR ([London Inter-Bank Offer Rate](https://en.wikipedia.org/wiki/Libor));"
   ]
  },
  {
   "cell_type": "markdown",
   "metadata": {
    "slideshow": {
     "slide_type": "fragment"
    }
   },
   "source": [
    "- prazos menores: empréstimos oficiais tinham prazos médios de 20 (década de 1960) a 15 (década de 1970) anos. Os empréstimos privados variaram de 10 (auge do “milagre”) a 5 anos ou menos (crise)."
   ]
  },
  {
   "cell_type": "markdown",
   "metadata": {
    "slideshow": {
     "slide_type": "slide"
    }
   },
   "source": [
    "## Estratégias\n",
    "\n",
    "Diferentes estratégias diante do baixo dinamismo da Industrialização Substitutiva de Importações (ISI), após período de substituição “fácil” (até final de 1960): i) aumentar exportações de manufaturados ou ii) aprofundar ISI (Balassa, 1989)."
   ]
  },
  {
   "cell_type": "markdown",
   "metadata": {
    "slideshow": {
     "slide_type": "fragment"
    }
   },
   "source": [
    "Primeiro caso, *Coreia e Taiwan*: elevados benefícios para exportações de manufaturados, equilibrando incentivos para ISI e exportações."
   ]
  },
  {
   "cell_type": "markdown",
   "metadata": {
    "slideshow": {
     "slide_type": "fragment"
    }
   },
   "source": [
    "Segundo caso, *Argentina, Brasil e México*: aprofundamento da ISI, que porém não compensou baixo desempenho das exportações, sendo acompanhado por desequilíbrio externo recorrente."
   ]
  },
  {
   "cell_type": "markdown",
   "metadata": {
    "slideshow": {
     "slide_type": "subslide"
    }
   },
   "source": [
    "Veja a seguir o desempenho das exportações, resultante das diferentes orientações desses países."
   ]
  },
  {
   "cell_type": "markdown",
   "metadata": {
    "slideshow": {
     "slide_type": "subslide"
    }
   },
   "source": [
    "### <center>Exportações de manufaturados per capita (US$)</center>\n",
    "\n",
    "<center><img src=\"al_paises_export.png\" width=\"650\" height=\"550\"></center>"
   ]
  },
  {
   "cell_type": "markdown",
   "metadata": {
    "slideshow": {
     "slide_type": "slide"
    }
   },
   "source": [
    "## Alternativas\n",
    "\n",
    "Outra questão relevante é: quais são as alternativas diante de choques externos? Segundo Fishlow e Balassa, há quatro basicamente:"
   ]
  },
  {
   "cell_type": "markdown",
   "metadata": {
    "slideshow": {
     "slide_type": "fragment"
    }
   },
   "source": [
    "- políticas *deflacionárias*, com redução da absorção doméstica e das importações (elevada resistência interna)"
   ]
  },
  {
   "cell_type": "markdown",
   "metadata": {
    "slideshow": {
     "slide_type": "fragment"
    }
   },
   "source": [
    "- *promoção das exportações* (difícil, diante de mercados externos em declínio e baixa competitividade);"
   ]
  },
  {
   "cell_type": "markdown",
   "metadata": {
    "slideshow": {
     "slide_type": "fragment"
    }
   },
   "source": [
    "- *substituição de importações* (menor resistência interna);"
   ]
  },
  {
   "cell_type": "markdown",
   "metadata": {
    "slideshow": {
     "slide_type": "subslide"
    }
   },
   "source": [
    "- captação de *novos recursos externos* (menor resistência interna)."
   ]
  },
  {
   "cell_type": "markdown",
   "metadata": {
    "slideshow": {
     "slide_type": "fragment"
    }
   },
   "source": [
    "Vejamos as respostas dos países à crise de 1973 considerando essas alternativas:"
   ]
  },
  {
   "cell_type": "markdown",
   "metadata": {
    "slideshow": {
     "slide_type": "subslide"
    }
   },
   "source": [
    "#### <center>Estimativas de Balassa sobre os impactos do choque de 1973 e modelos de ajuste</center>\n",
    "\n",
    "<center><img src=\"al_paises_ajuste.png\" width=\"650\" height=\"450\"></center>"
   ]
  },
  {
   "cell_type": "markdown",
   "metadata": {
    "slideshow": {
     "slide_type": "slide"
    }
   },
   "source": [
    "## Respostas ao choque de 1973\n",
    "\n",
    "As estimativas indicam que Coreia (10,5% do PIB) e Taiwan (7,2%) sofreram impacto bem maior do choque de 1973 do que Brasil (3,3%)."
   ]
  },
  {
   "cell_type": "markdown",
   "metadata": {
    "slideshow": {
     "slide_type": "fragment"
    }
   },
   "source": [
    "*Coreia e Taiwan*: políticas deflacionárias para reduzir importações (mas não Coreia); menor captação de recursos externos; orientação para o mercado externo; substituição de importações."
   ]
  },
  {
   "cell_type": "markdown",
   "metadata": {
    "slideshow": {
     "slide_type": "fragment"
    }
   },
   "source": [
    "*Brasil*: políticas macro ativas e substitutivas de importações; elevação de captação de recursos externos; aumento das exportações, embora relativamente menos importante do que o efeito da substituição de importações."
   ]
  },
  {
   "cell_type": "markdown",
   "metadata": {
    "slideshow": {
     "slide_type": "slide"
    }
   },
   "source": [
    "O mesmo exercício para a mudança da política dos juros do FED a partir de final de 1979, que levou a novo choque na economia internacional:"
   ]
  },
  {
   "cell_type": "markdown",
   "metadata": {
    "slideshow": {
     "slide_type": "subslide"
    }
   },
   "source": [
    "#### <center>Estimativas de Balassa sobre os impactos do choque de 1979 e modelos de ajuste</center>\n",
    "\n",
    "<center><img src=\"al_paises_ajuste2.png\" width=\"650\" height=\"450\"></center>"
   ]
  },
  {
   "cell_type": "markdown",
   "metadata": {
    "slideshow": {
     "slide_type": "slide"
    }
   },
   "source": [
    "## Respostas ao choque de 1979\n",
    "\n",
    "Novamente Coreia (9,4% do PIB) e Taiwan (13,1%) sofreram impacto bem maior do choque de 1979 do que Brasil (2,5%)."
   ]
  },
  {
   "cell_type": "markdown",
   "metadata": {
    "slideshow": {
     "slide_type": "fragment"
    }
   },
   "source": [
    "*Coreia e Taiwan*: Taiwan seguiu a mesma política de 1973, mas Coreia baseou-se mais em políticas deflacionárias e substitutivas de importações."
   ]
  },
  {
   "cell_type": "markdown",
   "metadata": {
    "slideshow": {
     "slide_type": "fragment"
    }
   },
   "source": [
    "*Brasil*: adotou políticas deflacionárias; diminuiu captação de recursos\n",
    "externos e aumentou exportações e substituição de importações."
   ]
  },
  {
   "cell_type": "markdown",
   "metadata": {
    "slideshow": {
     "slide_type": "subslide"
    }
   },
   "source": [
    "### <center>Endividamento</center>\n",
    "\n",
    "<center><img src=\"al_paises_div.png\" width=\"650\" height=\"450\"></center>"
   ]
  },
  {
   "cell_type": "markdown",
   "metadata": {
    "slideshow": {
     "slide_type": "slide"
    }
   },
   "source": [
    "## Consequências\n",
    "\n",
    "Estimativas de Fishlow mostram custos dos empréstimos relativamente reduzidos, até mesmo taxas negativas de juros nos anos 1970."
   ]
  },
  {
   "cell_type": "markdown",
   "metadata": {
    "slideshow": {
     "slide_type": "fragment"
    }
   },
   "source": [
    "Endividamento não é em si um problema, pois sob certas condições pode pagar-se de forma consistente."
   ]
  },
  {
   "cell_type": "markdown",
   "metadata": {
    "slideshow": {
     "slide_type": "fragment"
    }
   },
   "source": [
    "O problema é que os compromissos do endividamento são, em geral, de curto prazo e rígidos. "
   ]
  },
  {
   "cell_type": "markdown",
   "metadata": {
    "slideshow": {
     "slide_type": "subslide"
    }
   },
   "source": [
    "Lembrando, a capacidade de manter os fluxos de pagamento depende de:"
   ]
  },
  {
   "cell_type": "markdown",
   "metadata": {
    "slideshow": {
     "slide_type": "fragment"
    }
   },
   "source": [
    "- saldo líquido das transações correntes (dependente sobretudo do saldo líquido  das exportações e do fluxo de pagamentos de juros e dividendos),"
   ]
  },
  {
   "cell_type": "markdown",
   "metadata": {
    "slideshow": {
     "slide_type": "fragment"
    }
   },
   "source": [
    "- saldo líquido da conta de capitais (entrada de financiamentos externos e investimentos diretos, saída de recursos via amortizações de empréstimos anteriores). "
   ]
  },
  {
   "cell_type": "markdown",
   "metadata": {
    "slideshow": {
     "slide_type": "slide"
    }
   },
   "source": [
    "## Debt-led growth?\n",
    "\n",
    "Fishlow argumenta que, entre 1967-1973, Brasil foi um caso de crescimento liderado por endividamento externo (*debt-led growth*)."
   ]
  },
  {
   "cell_type": "markdown",
   "metadata": {
    "slideshow": {
     "slide_type": "fragment"
    }
   },
   "source": [
    "Transações correntes saíram de superávit em 1965-66 para déficit de 2,3% do PIB em 1970-73."
   ]
  },
  {
   "cell_type": "markdown",
   "metadata": {
    "slideshow": {
     "slide_type": "fragment"
    }
   },
   "source": [
    "Em 1973, dívida externa foi de 17% do PIB (10% em 1967). Segundo o autor, este seria um caso de *debt-led growth*, em vez de *export-led growth* - que estaria então sendo seguido por Coreia e Taiwan."
   ]
  },
  {
   "cell_type": "markdown",
   "metadata": {
    "slideshow": {
     "slide_type": "slide"
    }
   },
   "source": [
    "## Funcionalidade\n",
    "\n",
    "Funcionalidade do endividamento externo, segundo Fishlow: a) financiou altos níveis de importações; b) permitiu realizar investimentos sem redução do consumo."
   ]
  },
  {
   "cell_type": "markdown",
   "metadata": {
    "slideshow": {
     "slide_type": "fragment"
    }
   },
   "source": [
    "O período pós-1973, por sua vez, é definido por Fishlow (1981) como de “ajuste financiado por endividamento externo”."
   ]
  },
  {
   "cell_type": "markdown",
   "metadata": {
    "slideshow": {
     "slide_type": "fragment"
    }
   },
   "source": [
    "> “O ajustamento gradual financiado pelo endividamento externo era claramente uma alternativa atraente” (Fishlow, 1981)."
   ]
  },
  {
   "cell_type": "markdown",
   "metadata": {
    "slideshow": {
     "slide_type": "slide"
    }
   },
   "source": [
    "## Críticas\n",
    "\n",
    "Noção de *debt-led growth*, porém, não é consensual, sendo criticada por parte da literatura, como Lago (1990) e implicitamente por Cruz (1983)."
   ]
  },
  {
   "cell_type": "markdown",
   "metadata": {
    "slideshow": {
     "slide_type": "fragment"
    }
   },
   "source": [
    "Lago (1990) utiliza evidências similares às de Fishlow, mas enfatiza o fato de que a absorção líquida de recursos do exterior foi de apenas 0,8% do PIB entre 1967-1973, elevando-se para 1,2% entre 1970-73."
   ]
  },
  {
   "cell_type": "markdown",
   "metadata": {
    "slideshow": {
     "slide_type": "fragment"
    }
   },
   "source": [
    "Daí conclui que a Formação Bruta de Capital (FBKF) foi financiada majoritariamente por recursos internos, enquanto o endividamento levou ao acúmulo de reservas."
   ]
  }
 ],
 "metadata": {
  "celltoolbar": "Slideshow",
  "kernelspec": {
   "display_name": "Python 3 (ipykernel)",
   "language": "python",
   "name": "python3"
  },
  "language_info": {
   "codemirror_mode": {
    "name": "ipython",
    "version": 3
   },
   "file_extension": ".py",
   "mimetype": "text/x-python",
   "name": "python",
   "nbconvert_exporter": "python",
   "pygments_lexer": "ipython3",
   "version": "3.9.7"
  },
  "toc": {
   "base_numbering": 1,
   "nav_menu": {},
   "number_sections": false,
   "sideBar": true,
   "skip_h1_title": false,
   "title_cell": "Table of Contents",
   "title_sidebar": "Contents",
   "toc_cell": false,
   "toc_position": {},
   "toc_section_display": true,
   "toc_window_display": false
  }
 },
 "nbformat": 4,
 "nbformat_minor": 2
}
