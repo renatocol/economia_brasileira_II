{
 "cells": [
  {
   "cell_type": "markdown",
   "metadata": {
    "slideshow": {
     "slide_type": "slide"
    }
   },
   "source": [
    "## <center>Economia Brasileira II - Pós-Graduação - FEA-USP</center>\n",
    "\n",
    "### <center>Aula 5 - Industrialização Substitutiva de Importações</center>\n",
    "\n",
    "### <center>Renato Perim Colistete</center>\n",
    "\n",
    "\n",
    "#### <center>2024</center>  "
   ]
  },
  {
   "cell_type": "markdown",
   "metadata": {
    "heading_collapsed": true,
    "slideshow": {
     "slide_type": "slide"
    }
   },
   "source": [
    "## Objetivos\n",
    "\n",
    "Esta aula trata da evolução da ISI no Brasil, em termos quantitativos e sob uma perspectiva de longo prazo.\n",
    "\n",
    "Examinaremos diagnósticos distintos sobre a natureza e os resultados da ISI.\n",
    "\n",
    "Em seguida, discutiremos algumas controvérsias sobre a ISI na América Latina em geral e, especificamente, no Brasil."
   ]
  },
  {
   "cell_type": "markdown",
   "metadata": {
    "slideshow": {
     "slide_type": "slide"
    }
   },
   "source": [
    "## O que é ISI?\n",
    "\n",
    "Vamos inicialmente ver algumas definições e interpretações. O conceito básico aqui é o de *Industrialização Substitutiva de Importações (ISI)*. A ISI pode ser definida, primeiro, como *política ou estratégia econômica*, ou seja:"
   ]
  },
  {
   "cell_type": "markdown",
   "metadata": {
    "slideshow": {
     "slide_type": "fragment"
    }
   },
   "source": [
    "- parte-se da premissa de que o setor primário-exportador *não* é capaz de gerar processo sustentado de crescimento e elevação do nível de renda;"
   ]
  },
  {
   "cell_type": "markdown",
   "metadata": {
    "slideshow": {
     "slide_type": "fragment"
    }
   },
   "source": [
    "- a transformação estrutural do país ocorreria mediante transferência de recursos da agricultura/extrativa mineral para a indústria;"
   ]
  },
  {
   "cell_type": "markdown",
   "metadata": {
    "slideshow": {
     "slide_type": "subslide"
    }
   },
   "source": [
    "- a transformação estrutural seria viabilizada por proteção comercial e subsídios sob a coordenação ativa do Estado."
   ]
  },
  {
   "cell_type": "markdown",
   "metadata": {
    "slideshow": {
     "slide_type": "slide"
    }
   },
   "source": [
    "## ISI como história\n",
    "\n",
    "O conceito de ISI também é usado como *descrição da história econômica*:"
   ]
  },
  {
   "cell_type": "markdown",
   "metadata": {
    "slideshow": {
     "slide_type": "fragment"
    }
   },
   "source": [
    "- instabilidade crônica da receita de exportações, agravada por choques externos, levou a sucessivas restrições às importações, incentivando a produção doméstica;"
   ]
  },
  {
   "cell_type": "markdown",
   "metadata": {
    "slideshow": {
     "slide_type": "fragment"
    }
   },
   "source": [
    "- ISI não implicou menor dependência das importações ou autarquia, pois tendia a elevar a demanda de novas importações, em especial bens intermediários e de capital;"
   ]
  },
  {
   "cell_type": "markdown",
   "metadata": {
    "slideshow": {
     "slide_type": "fragment"
    }
   },
   "source": [
    "- o resultado teria sido uma crescente rigidez da pauta de importações (bens de difícil substituição) que acompanhou a experiência da ISI em vários países."
   ]
  },
  {
   "cell_type": "markdown",
   "metadata": {
    "slideshow": {
     "slide_type": "slide"
    }
   },
   "source": [
    "## Avaliações iniciais da ISI\n",
    "\n",
    "Até os primeiros anos da década de 1960, predominou uma visão otimista sobre os resultados da ISI no Brasil (Hirschman, 1968)."
   ]
  },
  {
   "cell_type": "markdown",
   "metadata": {
    "slideshow": {
     "slide_type": "fragment"
    }
   },
   "source": [
    "Celso Furtado, p. ex., identificou na época a “*transferência dos centros de decisão*” do exterior para o Brasil. Em resumo, para ele, essa transferência resultava de elevados investimentos industriais orientados para o mercado interno e elevada diversificação industrial (inclusive bens de capital)."
   ]
  },
  {
   "cell_type": "markdown",
   "metadata": {
    "slideshow": {
     "slide_type": "fragment"
    }
   },
   "source": [
    "Mas logo depois, Furtado mostrou-se muito mais pessimista: "
   ]
  },
  {
   "cell_type": "markdown",
   "metadata": {
    "slideshow": {
     "slide_type": "subslide"
    }
   },
   "source": [
    ">“In Latin America... there is a general consciousness of living through a period of decline...”;"
   ]
  },
  {
   "cell_type": "markdown",
   "metadata": {
    "slideshow": {
     "slide_type": "fragment"
    }
   },
   "source": [
    ">“The phase of 'easy' development, through increasing exports of primary products or through import substitution has everywhere been exhausted” (cit. por Hirschman, 1968)."
   ]
  },
  {
   "cell_type": "markdown",
   "metadata": {
    "slideshow": {
     "slide_type": "slide"
    }
   },
   "source": [
    "## Primeiras críticas à ISI\n",
    "\n",
    "As primeiras críticas à ISI na América Latina datam já do início da década de 1960."
   ]
  },
  {
   "cell_type": "markdown",
   "metadata": {
    "slideshow": {
     "slide_type": "fragment"
    }
   },
   "source": [
    "Uma das primeiras críticas à natureza indiscriminada da ISI e às distorções resultantes surgiram na própria CEPAL,\n",
    "p. ex. com Raul Prebisch (1963) e Santiago Macario (1964) - este último indicado para leitura."
   ]
  },
  {
   "cell_type": "markdown",
   "metadata": {
    "slideshow": {
     "slide_type": "fragment"
    }
   },
   "source": [
    "Baer (1972) batizou os autores dessas críticas de “market critics”."
   ]
  },
  {
   "cell_type": "markdown",
   "metadata": {
    "slideshow": {
     "slide_type": "slide"
    }
   },
   "source": [
    "## Crítica da CEPAL\n",
    "\n",
    "Santiago Macario (1964) apresentou uma das mais elaboradas “críticas de mercado”, enfatizando as distorções causadas por proteção elevada, subsídios e controles de importações."
   ]
  },
  {
   "cell_type": "markdown",
   "metadata": {
    "slideshow": {
     "slide_type": "fragment"
    }
   },
   "source": [
    "Macario destacou a natureza indiscriminada da proteção comercial e os altos custos e a ineficiência resultantes. Lógica da política na América Latina: substituição de importações a qualquer custo."
   ]
  },
  {
   "cell_type": "markdown",
   "metadata": {
    "slideshow": {
     "slide_type": "fragment"
    }
   },
   "source": [
    "Por outro lado, Macario sustentou que uma política protecionista “racional” seria viável e positiva."
   ]
  },
  {
   "cell_type": "markdown",
   "metadata": {
    "slideshow": {
     "slide_type": "slide"
    }
   },
   "source": [
    "## Dados de proteção comercial\n",
    "\n",
    "Ver a seguir um resumo das estimativas de Macario sobre a proteção comercial do Brasil, por volta de 1960. "
   ]
  },
  {
   "cell_type": "markdown",
   "metadata": {
    "slideshow": {
     "slide_type": "fragment"
    }
   },
   "source": [
    "Algo chama a atenção na tabela? "
   ]
  },
  {
   "cell_type": "markdown",
   "metadata": {
    "slideshow": {
     "slide_type": "fragment"
    }
   },
   "source": [
    "Dica: o que prediz a teoria da indústria nascente?"
   ]
  },
  {
   "cell_type": "markdown",
   "metadata": {
    "slideshow": {
     "slide_type": "subslide"
    }
   },
   "source": [
    "### <center>Proteção comercial, Brasil, 1960</center>\n",
    "\n",
    "<center><img src=\"br_protection_isi.png\" width=\"650\"></center>"
   ]
  },
  {
   "cell_type": "markdown",
   "metadata": {
    "slideshow": {
     "slide_type": "slide"
    }
   },
   "source": [
    "## Efeitos\n",
    "\n",
    "Resultados da proteção comercial indiscriminada, segundo Macario:"
   ]
  },
  {
   "cell_type": "markdown",
   "metadata": {
    "slideshow": {
     "slide_type": "fragment"
    }
   },
   "source": [
    "- estímulo ao desenvolvimento de indústrias ineficientes, pois empresas não sofriam pressão significativa para buscar menores custos;"
   ]
  },
  {
   "cell_type": "markdown",
   "metadata": {
    "slideshow": {
     "slide_type": "fragment"
    }
   },
   "source": [
    "- ausência de competição externa afetou níveis de produtividade, algo compensado apenas em parte pela concorrência no mercado doméstico;"
   ]
  },
  {
   "cell_type": "markdown",
   "metadata": {
    "slideshow": {
     "slide_type": "fragment"
    }
   },
   "source": [
    "- baixo desempenho ou estagnação das exportações de manufaturados, devido aos baixos níveis de eficiência e produtividade;"
   ]
  },
  {
   "cell_type": "markdown",
   "metadata": {
    "slideshow": {
     "slide_type": "slide"
    }
   },
   "source": [
    "## Vulnerabilidade\n",
    "\n",
    "- baixo dinamismo das exportações de manufaturados tornou a indústria doméstica *dependente de divisas das exportações de produtos tradicionais*, por natureza voláteis;"
   ]
  },
  {
   "cell_type": "markdown",
   "metadata": {
    "slideshow": {
     "slide_type": "fragment"
    }
   },
   "source": [
    "- rigidez da estrutura de importações agravou vulnerabilidade da indústria doméstica, pois redução adicional de importações só poderia ocorrer com restrição a produtos essenciais;"
   ]
  },
  {
   "cell_type": "markdown",
   "metadata": {
    "slideshow": {
     "slide_type": "fragment"
    }
   },
   "source": [
    "- assim, a forma com que a ISI foi conduzida *agravou, em vez de atenuar (!), a vulnerabilidade externa* dos países na América Latina – resultado paradoxal."
   ]
  },
  {
   "cell_type": "markdown",
   "metadata": {
    "slideshow": {
     "slide_type": "slide"
    }
   },
   "source": [
    "## Críticos neoclássicos\n",
    "\n",
    "No final da década de 1960, outros autores formaram o que Stephen Haggard (1990) chamou de “críticos neoclássicos” (Ian Little, Anne Krueger, Bela Balassa)."
   ]
  },
  {
   "cell_type": "markdown",
   "metadata": {
    "slideshow": {
     "slide_type": "fragment"
    }
   },
   "source": [
    "Para os “críticos neoclássicos”, a intervenção do governo nos mercados seria a causa última das distorções e ineficiências da industrialização na América Latina."
   ]
  },
  {
   "cell_type": "markdown",
   "metadata": {
    "slideshow": {
     "slide_type": "fragment"
    }
   },
   "source": [
    "E os “críticos neoclássicos” foram mais longe do que a crítica\n",
    "cepalina: "
   ]
  },
  {
   "cell_type": "markdown",
   "metadata": {
    "slideshow": {
     "slide_type": "subslide"
    }
   },
   "source": [
    "- elegeram a proteção comercial como a principal causa de distorções e ineficiências na AL; "
   ]
  },
  {
   "cell_type": "markdown",
   "metadata": {
    "slideshow": {
     "slide_type": "fragment"
    }
   },
   "source": [
    "- assumiram que o efeito principal da ISI foi de longo prazo – isto é, *ausência de desenvolvimento tecnológico na indústria emergente, com baixa produtividade*."
   ]
  },
  {
   "cell_type": "markdown",
   "metadata": {
    "slideshow": {
     "slide_type": "slide"
    }
   },
   "source": [
    "## Na História Econômica\n",
    "\n",
    "A perspectiva “neoclássica” da ISI é altamente influente na recente historiografia econômica internacional."
   ]
  },
  {
   "cell_type": "markdown",
   "metadata": {
    "slideshow": {
     "slide_type": "fragment"
    }
   },
   "source": [
    "Os efeitos de curto prazo (redução do *bem-estar social*) são considerados, mas os mais importantes são os impactos de *longo prazo*. A elevada proteção seria o fator principal responsável por ausência de inovação e progresso técnico da ISI na América Latina e no Brasil."
   ]
  },
  {
   "cell_type": "markdown",
   "metadata": {
    "slideshow": {
     "slide_type": "fragment"
    }
   },
   "source": [
    "Um exemplo é o livro clássico de Victor Bulmer-Thomas sobre a\n",
    "história econômica da América Latina (1994): "
   ]
  },
  {
   "cell_type": "markdown",
   "metadata": {
    "slideshow": {
     "slide_type": "subslide"
    }
   },
   "source": [
    ">“[t]he inward-looking model, particularly in the 1950s, is now seen as an aberration... although the excesses were often unnecessary the model – even in a less-distorted form – still cannot be defended.”"
   ]
  },
  {
   "cell_type": "markdown",
   "metadata": {
    "slideshow": {
     "slide_type": "slide"
    }
   },
   "source": [
    "## Mais críticos\n",
    "\n",
    "Stephen Haber chega a conclusões semelhantes:"
   ]
  },
  {
   "cell_type": "markdown",
   "metadata": {
    "slideshow": {
     "slide_type": "fragment"
    }
   },
   "source": [
    ">“[T]he ultimate outcome of import-substituting industrialization (ISI) is as depicted in the standard literature: highly protected and woefully inefficient industries” (Haber, 2006)."
   ]
  },
  {
   "cell_type": "markdown",
   "metadata": {
    "slideshow": {
     "slide_type": "fragment"
    }
   },
   "source": [
    "E, ainda mais radicais, Edwards et al. afirmam:"
   ]
  },
  {
   "cell_type": "markdown",
   "metadata": {
    "slideshow": {
     "slide_type": "subslide"
    }
   },
   "source": [
    ">“Latin america’s history has been characterized by mediocre growth, rampant protectionism, very high inflation, low productivity growth, and sucessive crisis.” (Edwards, Esquivel and Márquez, 2007)."
   ]
  },
  {
   "cell_type": "markdown",
   "metadata": {
    "slideshow": {
     "slide_type": "slide"
    }
   },
   "source": [
    "## Predições x realidade\n",
    "\n",
    "Mas o que dizem os dados? As predições de estagnação tecnológica e baixa produtividade da crítica à ISI vistas\n",
    "anteriormente são consistentes com as evidências?"
   ]
  },
  {
   "cell_type": "markdown",
   "metadata": {
    "slideshow": {
     "slide_type": "fragment"
    }
   },
   "source": [
    "O crescimento econômico brasileiro desde o final do século XIX foi notável até ser interrompido pela crise que atingiu os países altamente endividados no início da década de 1980."
   ]
  },
  {
   "cell_type": "markdown",
   "metadata": {
    "slideshow": {
     "slide_type": "fragment"
    }
   },
   "source": [
    "No pós-guerra, enquanto o crescimento do PIB e da indústria alcançou 7,3% e 8,8% a.a. respectivamente entre 1945 e 1980, as taxas caíram para 1,7% e zero (0.04%), respectivamente, no período 1980-1990. Ver tabela."
   ]
  },
  {
   "cell_type": "markdown",
   "metadata": {
    "slideshow": {
     "slide_type": "subslide"
    }
   },
   "source": [
    "### <center>Crescimento</center>\n",
    "\n",
    "<center><img src=\"br_growth_isi.png\" width=\"700\"></center>"
   ]
  },
  {
   "cell_type": "markdown",
   "metadata": {
    "slideshow": {
     "slide_type": "slide"
    }
   },
   "source": [
    "## ISI e seus resultados\n",
    "\n",
    "Ao contrário do que é sustentado pela visão dominante da ISI na AL, a proteção comercial excepcionalmente elevada e outras distorções **não** parecem ter impedido a emergência de aprendizado e inovações incrementais na indústria brasileira no pós-II Guerra Mundial."
   ]
  },
  {
   "cell_type": "markdown",
   "metadata": {
    "slideshow": {
     "slide_type": "fragment"
    }
   },
   "source": [
    "*A despeito das grandes distorções* causadas, por exemplo, pela alta proteção comercial, uma evidência significativa de que a eficiência industrial cresceu no Brasil durante os anos do pós-guerra foi o desempenho da produtividade do trabalho."
   ]
  },
  {
   "cell_type": "markdown",
   "metadata": {
    "slideshow": {
     "slide_type": "fragment"
    }
   },
   "source": [
    "Vejam as estimativas na tabela seguinte."
   ]
  },
  {
   "cell_type": "markdown",
   "metadata": {
    "slideshow": {
     "slide_type": "subslide"
    }
   },
   "source": [
    "#### <center>Produtividade do trabalho, Brasil (taxa média anual de crescimento, em %)</center>\n",
    "\n",
    "<center><img src=\"br_prody_isi.png\" width=\"700\"></center>"
   ]
  },
  {
   "cell_type": "markdown",
   "metadata": {
    "slideshow": {
     "slide_type": "slide"
    }
   },
   "source": [
    "## Produtividade\n",
    "\n",
    "Principais conclusões da tabela anterior: a produtividade do trabalho na indústria cresceu 4,5% ao ano entre 1945 e 1990, com dois ciclos de expansão em 1945-1960 (8,7%) e 1970-1980 (6,9%)."
   ]
  },
  {
   "cell_type": "markdown",
   "metadata": {
    "slideshow": {
     "slide_type": "fragment"
    }
   },
   "source": [
    "A “década perdida” (1980) apresentou o pior desempenho desde a Segunda Guerra Mundial, com uma taxa de\n",
    "crescimento da produtividade de 2,1% ao ano."
   ]
  },
  {
   "cell_type": "markdown",
   "metadata": {
    "slideshow": {
     "slide_type": "fragment"
    }
   },
   "source": [
    "Quando consideramos somente o período anterior à crise da dívida, a produtividade do trabalho industrial apresenta uma taxa de crescimento anual de 5,8% entre 1945 e 1980."
   ]
  },
  {
   "cell_type": "markdown",
   "metadata": {
    "slideshow": {
     "slide_type": "slide"
    }
   },
   "source": [
    "## Catching up, mas...\n",
    "\n",
    "A indústria brasileira atingiu níveis relativamente elevados de produtividade do trabalho frente a outros países na década de 1960 (van Ark and Timmer, 2001)."
   ]
  },
  {
   "cell_type": "markdown",
   "metadata": {
    "slideshow": {
     "slide_type": "fragment"
    }
   },
   "source": [
    "O nível da produtividade do trabalho na indústria do Brasil chegou a 54,1% em 1960 e 56,0% em 1973 em relação aos níveis da indústria dos EUA – os mesmos índices para Coréia foram 11,3% e 17,1%."
   ]
  },
  {
   "cell_type": "markdown",
   "metadata": {
    "slideshow": {
     "slide_type": "fragment"
    }
   },
   "source": [
    "*No entanto*, a partir de meados da década de 1970 (ou seja, já *antes da crise dos anos 1980*), o Brasil perdeu terreno: em 1998, apenas 35,9%, enquanto Coreia chegou a 43,1% do nível de produtividade dos EUA. "
   ]
  },
  {
   "cell_type": "markdown",
   "metadata": {
    "slideshow": {
     "slide_type": "subslide"
    }
   },
   "source": [
    "O que explica o substancial desempenho da produtividade na indústria brasileira até meados dos anos 1970 e o posterior declínio e estagnação? Voltaremos ao tema em aulas futuras."
   ]
  },
  {
   "cell_type": "markdown",
   "metadata": {
    "slideshow": {
     "slide_type": "slide"
    }
   },
   "source": [
    "## Crescimento comparado em um gráfico\n",
    "\n",
    "Para terminar, vejam a trajetória de longo prazo e comparada de 12 países com maior PIB *per capita* da América do Sul e do Leste Asiático."
   ]
  },
  {
   "cell_type": "markdown",
   "metadata": {
    "slideshow": {
     "slide_type": "fragment"
    }
   },
   "source": [
    "O período é de 1820 e 2010, com dados de Angus Maddison em dólares internacionais de 1990."
   ]
  },
  {
   "cell_type": "markdown",
   "metadata": {
    "slideshow": {
     "slide_type": "fragment"
    }
   },
   "source": [
    "Clique [aqui](pibpc_barv.mp4)"
   ]
  }
 ],
 "metadata": {
  "celltoolbar": "Slideshow",
  "kernelspec": {
   "display_name": "Python 3 (ipykernel)",
   "language": "python",
   "name": "python3"
  },
  "language_info": {
   "codemirror_mode": {
    "name": "ipython",
    "version": 3
   },
   "file_extension": ".py",
   "mimetype": "text/x-python",
   "name": "python",
   "nbconvert_exporter": "python",
   "pygments_lexer": "ipython3",
   "version": "3.8.20"
  },
  "toc": {
   "base_numbering": 1,
   "nav_menu": {},
   "number_sections": false,
   "sideBar": true,
   "skip_h1_title": false,
   "title_cell": "Table of Contents",
   "title_sidebar": "Contents",
   "toc_cell": false,
   "toc_position": {},
   "toc_section_display": true,
   "toc_window_display": false
  }
 },
 "nbformat": 4,
 "nbformat_minor": 4
}
